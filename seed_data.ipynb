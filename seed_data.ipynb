{
 "cells": [
  {
   "cell_type": "code",
   "execution_count": 33,
   "metadata": {},
   "outputs": [],
   "source": [
    "import os\n",
    "import json\n",
    "from uuid import uuid4\n",
    "from dotenv import load_dotenv\n",
    "from ipynb.fs.full.crawl import craw_web\n",
    "from langchain_milvus import Milvus\n",
    "from langchain_ollama import OllamaEmbeddings\n",
    "from langchain.schema import Document"
   ]
  },
  {
   "cell_type": "code",
   "execution_count": 34,
   "metadata": {},
   "outputs": [
    {
     "data": {
      "text/plain": [
       "True"
      ]
     },
     "execution_count": 34,
     "metadata": {},
     "output_type": "execute_result"
    }
   ],
   "source": [
    "load_dotenv()"
   ]
  },
  {
   "cell_type": "code",
   "execution_count": 35,
   "metadata": {},
   "outputs": [],
   "source": [
    "def load_data_from_local(filename: str, directory: str) -> tuple:\n",
    "    file_path = os.path.join(directory, file_path)\n",
    "    with open(file_path, 'r') as file:\n",
    "        data = json.load(file)\n",
    "    print(f'Data loaded from {file_path}')\n",
    "    \n",
    "    return data, filename.rsplit('.', 1)[0].replace('_', ' ')"
   ]
  },
  {
   "cell_type": "code",
   "execution_count": 36,
   "metadata": {},
   "outputs": [],
   "source": [
    "def seed_milvus(URI_link: str, collection_name: str, filename: str, directory: str, use_ollama: bool = False) -> Milvus:\n",
    "    if use_ollama: \n",
    "        embedding = OllamaEmbeddings(model=\"llama3\")\n",
    "    \n",
    "    local_data, doc_name = load_data_from_local(filename, directory)\n",
    "    \n",
    "    documents = [\n",
    "        Document(\n",
    "            page_content=doc.get('page_content') or '',\n",
    "            metadata={\n",
    "                'source': doc['metadata'].get('source') or '',\n",
    "                'content_type': doc['metadata'].get('content_type') or 'text/plain',\n",
    "                'title': doc['metadata'].get('title') or '',\n",
    "                'description': doc['metadata'].get('description') or '',\n",
    "                'language': doc['metadata'].get('language') or 'en',\n",
    "                'doc_name': doc_name,\n",
    "                'start_index': doc['metadata'].get('start_index') or 0\n",
    "            }\n",
    "        )\n",
    "        for doc in local_data\n",
    "    ]\n",
    "    \n",
    "    print('documents: ', documents)\n",
    "    \n",
    "    uuids = [str(uuid4()) for _ in range(len(documents))]\n",
    "    \n",
    "    vectorstore = Milvus(\n",
    "        embedding_function=embedding,\n",
    "        connection_args={\"uri\": URI_link},\n",
    "        collection_name=collection_name,\n",
    "        drop_old=True\n",
    "    )\n",
    "    \n",
    "    vectorstore.add_documents(documents=documents, ids=uuids)\n",
    "    print('vector: ', vectorstore)\n",
    "    return vectorstore\n",
    "    "
   ]
  },
  {
   "cell_type": "code",
   "execution_count": 37,
   "metadata": {},
   "outputs": [],
   "source": [
    "def seed_milvus_live(URL: str, URI_link: str, collection_name: str, doc_name: str, use_ollama: bool = False) -> Milvus:\n",
    "    if use_ollama: \n",
    "        embedding = OllamaEmbeddings(model = \"llama3\")\n",
    "    \n",
    "    documents = craw_web(URL)\n",
    "    \n",
    "    for doc in documents:\n",
    "        metadata={\n",
    "            'source': doc['metadata'].get('source') or '',\n",
    "            'content_type': doc['metadata'].get('content_type') or 'text/plain',\n",
    "            'title': doc['metadata'].get('title') or '',\n",
    "            'description': doc['metadata'].get('description') or '',\n",
    "            'language': doc['metadata'].get('language') or 'en',\n",
    "            'doc_name': doc_name,\n",
    "            'start_index': doc['metadata'].get('start_index') or 0\n",
    "        }\n",
    "        doc.metadata = metadata\n",
    "    \n",
    "    uuids = [str(uuid4()) for _ in range(len(documents))]\n",
    "    \n",
    "    vectorstore = Milvus(\n",
    "        embedding_function=embedding,\n",
    "        connection_args={\"uri\": URI_link},\n",
    "        collection_name=collection_name,\n",
    "        drop_old=True\n",
    "    )\n",
    "    \n",
    "    vectorstore.add_documents(documents=documents, ids=uuids)\n",
    "    print('vector: ', vectorstore)\n",
    "    return vectorstore"
   ]
  },
  {
   "cell_type": "code",
   "execution_count": 38,
   "metadata": {},
   "outputs": [],
   "source": [
    "def connect_to_milvus(URI_link: str, collection_name: str) -> Milvus:\n",
    "    embedding = OllamaEmbeddings(model=\"llama3\")\n",
    "    vectorstore = Milvus(\n",
    "        embedding_function=embedding, \n",
    "        connection_args={\"uri\": URI_link},\n",
    "        collection_name=collection_name\n",
    "    )\n",
    "    return vectorstore"
   ]
  },
  {
   "cell_type": "code",
   "execution_count": 39,
   "metadata": {},
   "outputs": [],
   "source": [
    "#def main():\n",
    "    #seed_milvus('http://localhost:19530', 'data_test', 'titech.json', 'data', use_ollama=False)\n",
    "    # # seed_milvus_live('https://www.owc.titech.ac.jp', 'http://localhost:19530', 'data_test_live', 'titech-ai', use_ollama=False)\n"
   ]
  },
  {
   "cell_type": "code",
   "execution_count": 40,
   "metadata": {},
   "outputs": [],
   "source": [
    "#if __name__ == '__main__':\n",
    "    #main()"
   ]
  }
 ],
 "metadata": {
  "kernelspec": {
   "display_name": "Python 3 (ipykernel)",
   "language": "python",
   "name": "python3"
  }
 },
 "nbformat": 4,
 "nbformat_minor": 2
}
