{
 "cells": [
  {
   "cell_type": "code",
   "execution_count": null,
   "metadata": {},
   "outputs": [],
   "source": [
    "import os\n",
    "import re\n",
    "import json\n",
    "from langchain_community.document_loaders import RecursiveUrlLoader, WebBaseLoader\n",
    "from langchain_text_splitters import RecursiveCharacterTextSplitter\n",
    "from bs4 import BeautifulSoup"
   ]
  },
  {
   "cell_type": "code",
   "execution_count": 42,
   "metadata": {},
   "outputs": [],
   "source": [
    "from fake_useragent import UserAgent\n",
    "\n",
    "os.environ['USER_AGENT'] = UserAgent().chrome"
   ]
  },
  {
   "cell_type": "code",
   "execution_count": 43,
   "metadata": {},
   "outputs": [
    {
     "data": {
      "text/plain": [
       "True"
      ]
     },
     "execution_count": 43,
     "metadata": {},
     "output_type": "execute_result"
    }
   ],
   "source": [
    "load_dotenv()"
   ]
  },
  {
   "cell_type": "code",
   "execution_count": 44,
   "metadata": {},
   "outputs": [],
   "source": [
    "def bs4_extractor(html: str) -> str:\n",
    "    soup = BeautifulSoup(html, \"html.parser\")\n",
    "    return re.sub(r\"\\n\\n+\", \"\\n\\n\", soup.text).strip()"
   ]
  },
  {
   "cell_type": "code",
   "execution_count": 45,
   "metadata": {},
   "outputs": [],
   "source": [
    "def craw_web(url_data):\n",
    "    loader = RecursiveUrlLoader(url=url_data, extractor=bs4_extractor, max_depth=4)\n",
    "    docs = loader.load()\n",
    "    print('length: ', len(docs))\n",
    "    \n",
    "    text_splitter = RecursiveCharacterTextSplitter(chunk_size=10000, chunk_overlap=500)\n",
    "    all_splitts = text_splitter.split_documents(docs)\n",
    "    print('length_all_splits: ', len(all_splitts))\n",
    "    return all_splitts"
   ]
  },
  {
   "cell_type": "code",
   "execution_count": 46,
   "metadata": {},
   "outputs": [],
   "source": [
    "def web_base_loader(url_data):\n",
    "    loader = WebBaseLoader(url_data)\n",
    "    docs = loader.load()\n",
    "    print('length: ', len(docs))\n",
    "    \n",
    "    text_splitter = RecursiveCharacterTextSplitter(chunk_size=1000, chunk_overlap=500)\n",
    "    all_splitts = text_splitter.split_documents(docs)\n",
    "    return all_splitts"
   ]
  },
  {
   "cell_type": "code",
   "execution_count": 47,
   "metadata": {},
   "outputs": [],
   "source": [
    "def save_data_locally(documments, filename, directory):\n",
    "    if not os.path.exists(directory):\n",
    "        os.makedirs(directory)\n",
    "        \n",
    "    file_path = os.path.join(directory, filename)\n",
    "    \n",
    "    data_to_save = [{'page_content': doc.page_content, 'metadata': doc.metadata} for doc in documments]\n",
    "    \n",
    "    with open(file_path, 'w') as file:\n",
    "        json.dump(data_to_save, file, indent=4)\n",
    "    print(f'Data saved to {file_path}')"
   ]
  },
  {
   "cell_type": "code",
   "execution_count": 48,
   "metadata": {},
   "outputs": [],
   "source": [
    "#def main():\n",
    "    #data = craw_web('https://www.ocw.titech.ac.jp/')\n",
    "    \n",
    "    #save_data_locally(data, 'symptom.json', 'web_data')\n",
    "    #print('data: ', data)"
   ]
  },
  {
   "cell_type": "code",
   "execution_count": 49,
   "metadata": {},
   "outputs": [],
   "source": [
    "#if __name__ == \"__main__\":\n",
    "    #main()"
   ]
  }
 ],
 "metadata": {
  "kernelspec": {
   "display_name": "Python 3 (ipykernel)",
   "language": "python",
   "name": "python3"
  }
 },
 "nbformat": 4,
 "nbformat_minor": 2
}
